{
 "cells": [
  {
   "cell_type": "markdown",
   "metadata": {},
   "source": [
    "# Introduction to Python and Jupyter\n",
    "Author: Chloé-Agathe Azencott `chloe-agathe.azencott@mines-paristech.fr`\n",
    "    \n",
    "With many thanks to [Alexandre Gramfort](http://alexandre.gramfort.net/) (Telecom ParisTech), who provided most of the material for this notebook, and [J.R. Johansson](http://dml.riken.jp/~rob/), from whom he took inspiration.\n",
    "\n",
    "__This notebook contains 6 problems. Make sure you know how to do them before moving on to the next notebook.__"
   ]
  },
  {
   "cell_type": "markdown",
   "metadata": {},
   "source": [
    "## Foreword: Python 2.7 vs. Python 3\n",
    "This notebook was built using Python 2.7.\n",
    "\n",
    "One of the major differences you'll note if you use Python 3 is that you'll have to add parentheses \n",
    "around the argument of the print function:\n",
    "`print blah` must become `print(blah)`."
   ]
  },
  {
   "cell_type": "markdown",
   "metadata": {},
   "source": [
    "## Installation\n",
    "The easiest way to install all what you will need for scientific computing in Python is to install \n",
    "[Anaconda](http://continuum.io/downloads.html).\n",
    "\n",
    "You can also install python and python-pip, and then all required packages with pip."
   ]
  },
  {
   "cell_type": "markdown",
   "metadata": {},
   "source": [
    "## Running Python code\n",
    "Python code can be run either from an interactive python shell, such as the one you get when typing\n",
    "\n",
    "    $ python\n",
    " \n",
    "in a terminal,\n",
    "or \n",
    "\n",
    "    $ ipython\n",
    "\n",
    "which is a much more advanced interactive python shell, with nice functionalities (autocompletion, inline help, etc.)\n",
    "\n",
    "You can also run Python code from within a Jupyter notebook, as below"
   ]
  },
  {
   "cell_type": "code",
   "execution_count": null,
   "metadata": {
    "collapsed": true
   },
   "outputs": [],
   "source": [
    "print \"Welcome to LSML 2017!\""
   ]
  },
  {
   "cell_type": "markdown",
   "metadata": {},
   "source": [
    "You can also save Python code to a Python file, ending in \"`.py`\", and run all lines in this file \n",
    "(save those that start with '`#`' and are comments) by running\n",
    "\n",
    "    $ python my_script.py\n",
    "\n",
    "in the terminal.\n",
    "\n",
    "In a Jupyter notebook, you can preface any command with \"`!`\" to run it from the terminal.\n",
    "\n",
    "Therefore to run a Python code file:"
   ]
  },
  {
   "cell_type": "code",
   "execution_count": null,
   "metadata": {
    "collapsed": true
   },
   "outputs": [],
   "source": [
    "! python my_script.py"
   ]
  },
  {
   "cell_type": "markdown",
   "metadata": {},
   "source": [
    "## Some notes about Jupyter\n",
    "\n",
    "Jupyter allows you to run blocks of code (or _cells_, in the language specified by the corresponding _kernel_ (visible in the upper right corner of your notebook).\n",
    "\n",
    "It also uses the Markdown syntax (for help see: http://jupyter-notebook.readthedocs.io/en/latest/examples/Notebook/Working%20With%20Markdown%20Cells.html) for formatting text in Markdown cells.\n",
    "\n",
    "To run the code in a cell, press \"play\" or type \"Shift+Enter\". To run the code and add an empty cell right afterwards, type \"Alt+Enter\".\n",
    "\n",
    "Jupyter has autocompletion functionalities (type \"tab\" to autocomplete)."
   ]
  },
  {
   "cell_type": "markdown",
   "metadata": {},
   "source": [
    "## Variables in Python\n",
    "\n",
    "Variable names must start with a letter (a-z, A-Z), and can contain letters (a-z, A-Z), digits (0-9), \n",
    "and a few special characters such as - or _.\n",
    "\n",
    "Usage: variable names are usually lower case.\n",
    "\n",
    "Keywords from the langage (`and`, `as`, `class`, `else`, `for`, `if`, etc.) cannot be used as variable names."
   ]
  },
  {
   "cell_type": "markdown",
   "metadata": {},
   "source": [
    "Python types variables automatically."
   ]
  },
  {
   "cell_type": "code",
   "execution_count": null,
   "metadata": {
    "collapsed": true
   },
   "outputs": [],
   "source": [
    "a = 2 \n",
    "print a\n",
    "print type(a)"
   ]
  },
  {
   "cell_type": "code",
   "execution_count": null,
   "metadata": {
    "collapsed": true
   },
   "outputs": [],
   "source": [
    "b = 2.1\n",
    "print b\n",
    "print type(b)"
   ]
  },
  {
   "cell_type": "code",
   "execution_count": null,
   "metadata": {
    "collapsed": true
   },
   "outputs": [],
   "source": [
    "c = a < b\n",
    "print c\n",
    "print type(c)"
   ]
  },
  {
   "cell_type": "code",
   "execution_count": null,
   "metadata": {
    "collapsed": true
   },
   "outputs": [],
   "source": [
    "d = 'hello world'\n",
    "print d\n",
    "print type(d)"
   ]
  },
  {
   "cell_type": "markdown",
   "metadata": {},
   "source": [
    "## Numbers in Python"
   ]
  },
  {
   "cell_type": "code",
   "execution_count": null,
   "metadata": {
    "collapsed": true
   },
   "outputs": [],
   "source": [
    "# Adding numbers\n",
    "1 + 2 "
   ]
  },
  {
   "cell_type": "code",
   "execution_count": 1,
   "metadata": {},
   "outputs": [
    {
     "name": "stdout",
     "output_type": "stream",
     "text": [
      "3\n"
     ]
    }
   ],
   "source": [
    "# Modify a variable in place\n",
    "a = 1\n",
    "a += 2\n",
    "print a"
   ]
  },
  {
   "cell_type": "code",
   "execution_count": 3,
   "metadata": {},
   "outputs": [
    {
     "name": "stdout",
     "output_type": "stream",
     "text": [
      "3\n",
      "<type 'int'>\n"
     ]
    }
   ],
   "source": [
    "# Multiplying numbers\n",
    "b=1\n",
    "e = a*b\n",
    "print e\n",
    "print type(e)"
   ]
  },
  {
   "cell_type": "code",
   "execution_count": 4,
   "metadata": {},
   "outputs": [
    {
     "data": {
      "text/plain": [
       "8"
      ]
     },
     "execution_count": 4,
     "metadata": {},
     "output_type": "execute_result"
    }
   ],
   "source": [
    "# Raising numbers to a power\n",
    "2 ** 3"
   ]
  },
  {
   "cell_type": "code",
   "execution_count": 5,
   "metadata": {},
   "outputs": [
    {
     "data": {
      "text/plain": [
       "2"
      ]
     },
     "execution_count": 5,
     "metadata": {},
     "output_type": "execute_result"
    }
   ],
   "source": [
    "# Modulo \n",
    "8 % 3"
   ]
  },
  {
   "cell_type": "code",
   "execution_count": 6,
   "metadata": {},
   "outputs": [
    {
     "data": {
      "text/plain": [
       "1"
      ]
     },
     "execution_count": 6,
     "metadata": {},
     "output_type": "execute_result"
    }
   ],
   "source": [
    "# Dividing numbers\n",
    "3 / 2 "
   ]
  },
  {
   "cell_type": "markdown",
   "metadata": {},
   "source": [
    "In the previous example we divided an integer by another integer and got... an integer.\n",
    "The behaviour you expected was probably that of:"
   ]
  },
  {
   "cell_type": "code",
   "execution_count": 7,
   "metadata": {},
   "outputs": [
    {
     "data": {
      "text/plain": [
       "1.5"
      ]
     },
     "execution_count": 7,
     "metadata": {},
     "output_type": "execute_result"
    }
   ],
   "source": [
    "3. / 2"
   ]
  },
  {
   "cell_type": "code",
   "execution_count": 8,
   "metadata": {},
   "outputs": [
    {
     "data": {
      "text/plain": [
       "1.5"
      ]
     },
     "execution_count": 8,
     "metadata": {},
     "output_type": "execute_result"
    }
   ],
   "source": [
    "float(3) / 2"
   ]
  },
  {
   "cell_type": "markdown",
   "metadata": {},
   "source": [
    "The exact syntax and semantics of the Python language are availble in the Python Langauge Reference: https://docs.python.org/2.7/reference/"
   ]
  },
  {
   "cell_type": "markdown",
   "metadata": {},
   "source": [
    "## Python Standard Library and modules\n",
    "Python's functions are organized by _modules_. The Python Standard Library contains the modules that are distributed with  Python (i.e. that you can use without installing anything additional) and covers lots of functionalities.\n",
    "\n",
    "The full reference of the Python Standard Library is available at https://docs.python.org/2.7/library/\n",
    "\n",
    "Before using a module you must import it:"
   ]
  },
  {
   "cell_type": "code",
   "execution_count": 9,
   "metadata": {
    "collapsed": true
   },
   "outputs": [],
   "source": [
    "import math"
   ]
  },
  {
   "cell_type": "code",
   "execution_count": 10,
   "metadata": {},
   "outputs": [
    {
     "name": "stdout",
     "output_type": "stream",
     "text": [
      "1.0\n"
     ]
    }
   ],
   "source": [
    "print math.cos(2 * math.pi)"
   ]
  },
  {
   "cell_type": "markdown",
   "metadata": {},
   "source": [
    "You can also only import the methods you need:"
   ]
  },
  {
   "cell_type": "code",
   "execution_count": 11,
   "metadata": {},
   "outputs": [
    {
     "name": "stdout",
     "output_type": "stream",
     "text": [
      "1.0\n"
     ]
    }
   ],
   "source": [
    "from math import cos, pi\n",
    "print cos(2 * pi)"
   ]
  },
  {
   "cell_type": "markdown",
   "metadata": {},
   "source": [
    "If you'd rather keep track of which module your functions come from, but find the module name a bit long, you can use a nickname for your module when importing it."
   ]
  },
  {
   "cell_type": "code",
   "execution_count": 12,
   "metadata": {},
   "outputs": [
    {
     "name": "stdout",
     "output_type": "stream",
     "text": [
      "1.0\n"
     ]
    }
   ],
   "source": [
    "import math as m\n",
    "print m.cos(2 * m.pi)"
   ]
  },
  {
   "cell_type": "markdown",
   "metadata": {},
   "source": [
    "To know what functions are available in a module you have imported:"
   ]
  },
  {
   "cell_type": "code",
   "execution_count": 13,
   "metadata": {},
   "outputs": [
    {
     "name": "stdout",
     "output_type": "stream",
     "text": [
      "['__doc__', '__name__', '__package__', 'acos', 'acosh', 'asin', 'asinh', 'atan', 'atan2', 'atanh', 'ceil', 'copysign', 'cos', 'cosh', 'degrees', 'e', 'erf', 'erfc', 'exp', 'expm1', 'fabs', 'factorial', 'floor', 'fmod', 'frexp', 'fsum', 'gamma', 'hypot', 'isinf', 'isnan', 'ldexp', 'lgamma', 'log', 'log10', 'log1p', 'modf', 'pi', 'pow', 'radians', 'sin', 'sinh', 'sqrt', 'tan', 'tanh', 'trunc']\n"
     ]
    }
   ],
   "source": [
    "import math\n",
    "print dir(math)"
   ]
  },
  {
   "cell_type": "markdown",
   "metadata": {},
   "source": [
    "To get help on a specific function:"
   ]
  },
  {
   "cell_type": "code",
   "execution_count": 14,
   "metadata": {},
   "outputs": [
    {
     "name": "stdout",
     "output_type": "stream",
     "text": [
      "Help on built-in function log in module math:\n",
      "\n",
      "log(...)\n",
      "    log(x[, base])\n",
      "    \n",
      "    Return the logarithm of x to the given base.\n",
      "    If the base not specified, returns the natural logarithm (base e) of x.\n",
      "\n"
     ]
    }
   ],
   "source": [
    "help(math.log)"
   ]
  },
  {
   "cell_type": "markdown",
   "metadata": {},
   "source": [
    "Or, in ipython or a Jupyter notebook:"
   ]
  },
  {
   "cell_type": "code",
   "execution_count": null,
   "metadata": {
    "collapsed": true
   },
   "outputs": [],
   "source": [
    "math.log?"
   ]
  },
  {
   "cell_type": "markdown",
   "metadata": {},
   "source": [
    "## Problem 1.1\n",
    "Write code to compute the first power of 2 that is strictly greater than a given integer n.\n",
    "For example:\n",
    "* if n=7, the code must print 8\n",
    "* if n=8, the code must print 8\n",
    "* if n=9, the code must print 16"
   ]
  },
  {
   "cell_type": "code",
   "execution_count": 13,
   "metadata": {},
   "outputs": [
    {
     "name": "stdout",
     "output_type": "stream",
     "text": [
      "Insert integer n\n",
      "9\n",
      "16\n"
     ]
    }
   ],
   "source": [
    "# TODO\n",
    "get=raw_input('Insert integer n\\n')\n",
    "get=int(get)\n",
    "i=0\n",
    "pot=(2**i)\n",
    "while(pot<get):\n",
    "    i=i+1\n",
    "    pot=2**i\n",
    "print pot\n",
    "\n",
    "\n"
   ]
  },
  {
   "cell_type": "markdown",
   "metadata": {},
   "source": [
    "## Booleans"
   ]
  },
  {
   "cell_type": "code",
   "execution_count": 20,
   "metadata": {},
   "outputs": [
    {
     "name": "stdout",
     "output_type": "stream",
     "text": [
      "False\n",
      "True\n",
      "True\n"
     ]
    }
   ],
   "source": [
    "# Boolean operators\n",
    "print True and False\n",
    "print True or False\n",
    "print not False"
   ]
  },
  {
   "cell_type": "code",
   "execution_count": 17,
   "metadata": {},
   "outputs": [
    {
     "name": "stdout",
     "output_type": "stream",
     "text": [
      "False\n"
     ]
    }
   ],
   "source": [
    "# Strictly less than\n",
    "print 2 < 1"
   ]
  },
  {
   "cell_type": "code",
   "execution_count": null,
   "metadata": {
    "collapsed": true
   },
   "outputs": [],
   "source": [
    "# Strictly greater than\n",
    "print 2 > 1\n",
    "print 2 > 2"
   ]
  },
  {
   "cell_type": "code",
   "execution_count": null,
   "metadata": {
    "collapsed": true
   },
   "outputs": [],
   "source": [
    "# Greater than or equal to\n",
    "print 2 >= 2"
   ]
  },
  {
   "cell_type": "code",
   "execution_count": null,
   "metadata": {
    "collapsed": true
   },
   "outputs": [],
   "source": [
    "# Less than or equal to\n",
    "print 2 <= 2"
   ]
  },
  {
   "cell_type": "code",
   "execution_count": null,
   "metadata": {
    "collapsed": true
   },
   "outputs": [],
   "source": [
    "# Not equal to\n",
    "print 2 != 3"
   ]
  },
  {
   "cell_type": "code",
   "execution_count": null,
   "metadata": {
    "collapsed": true
   },
   "outputs": [],
   "source": [
    "# Equal to\n",
    "print 2 == 3"
   ]
  },
  {
   "cell_type": "code",
   "execution_count": 14,
   "metadata": {},
   "outputs": [
    {
     "name": "stdout",
     "output_type": "stream",
     "text": [
      "True\n"
     ]
    }
   ],
   "source": [
    "print 2 == 2.0"
   ]
  },
  {
   "cell_type": "code",
   "execution_count": 15,
   "metadata": {},
   "outputs": [
    {
     "name": "stdout",
     "output_type": "stream",
     "text": [
      "True\n"
     ]
    }
   ],
   "source": [
    "print not 2 == 3"
   ]
  },
  {
   "cell_type": "code",
   "execution_count": 16,
   "metadata": {},
   "outputs": [
    {
     "name": "stdout",
     "output_type": "stream",
     "text": [
      "1\n",
      "True\n"
     ]
    }
   ],
   "source": [
    "print int(True)\n",
    "print 1 == True"
   ]
  },
  {
   "cell_type": "code",
   "execution_count": 17,
   "metadata": {},
   "outputs": [
    {
     "name": "stdout",
     "output_type": "stream",
     "text": [
      "0\n",
      "True\n"
     ]
    }
   ],
   "source": [
    "print int(False)\n",
    "print 0 == False"
   ]
  },
  {
   "cell_type": "markdown",
   "metadata": {},
   "source": [
    "## Strings"
   ]
  },
  {
   "cell_type": "code",
   "execution_count": 18,
   "metadata": {},
   "outputs": [
    {
     "name": "stdout",
     "output_type": "stream",
     "text": [
      "Hello LSML!\n",
      "Hello LSML!\n",
      "Hello \"LSML\"!\n",
      "<type 'str'>\n"
     ]
    }
   ],
   "source": [
    "s = 'Hello LSML!'\n",
    "print s\n",
    "s = \"Hello LSML!\"\n",
    "print s\n",
    "s = 'Hello \"LSML\"!'\n",
    "print s\n",
    "print type(s)"
   ]
  },
  {
   "cell_type": "markdown",
   "metadata": {},
   "source": [
    "### Substrings\n",
    "You can extract a substring from a string using the following syntax:\n",
    "    \n",
    "    s[start:stop]\n",
    "\n",
    "* `start` is the first index, __included__\n",
    "* `stop` is the lst index, __excluded__\n",
    "* __Indices start at 0 in Python__"
   ]
  },
  {
   "cell_type": "code",
   "execution_count": 19,
   "metadata": {},
   "outputs": [
    {
     "name": "stdout",
     "output_type": "stream",
     "text": [
      "H\n",
      "H\n"
     ]
    }
   ],
   "source": [
    "# First index\n",
    "print s[0:1]\n",
    "# Equivalently\n",
    "print s[0]"
   ]
  },
  {
   "cell_type": "code",
   "execution_count": 20,
   "metadata": {},
   "outputs": [
    {
     "name": "stdout",
     "output_type": "stream",
     "text": [
      "!\n",
      "!\n",
      "!\n",
      "!\n"
     ]
    }
   ],
   "source": [
    "# Last index\n",
    "print s[12:13]\n",
    "# Equivalently\n",
    "print s[12]\n",
    "# Or again\n",
    "print s[-1]\n",
    "# Or again\n",
    "print s[-1:13]"
   ]
  },
  {
   "cell_type": "code",
   "execution_count": 21,
   "metadata": {},
   "outputs": [
    {
     "name": "stdout",
     "output_type": "stream",
     "text": [
      "4\n",
      "4\n"
     ]
    }
   ],
   "source": [
    "start, stop = 1, 5\n",
    "ss = s[start:stop]\n",
    "\n",
    "print (stop-start)\n",
    "print len(ss)"
   ]
  },
  {
   "cell_type": "code",
   "execution_count": 22,
   "metadata": {},
   "outputs": [
    {
     "name": "stdout",
     "output_type": "stream",
     "text": [
      "2\n",
      "1\n"
     ]
    }
   ],
   "source": [
    "print len(\"é\")\n",
    "print len(u\"é\") # Convert the string to unicode first"
   ]
  },
  {
   "cell_type": "code",
   "execution_count": 23,
   "metadata": {},
   "outputs": [
    {
     "name": "stdout",
     "output_type": "stream",
     "text": [
      "Hello \"\n",
      "LSML\"!\n"
     ]
    }
   ],
   "source": [
    "# If you don't use start, it will be implied that it is 0\n",
    "print s[:7]\n",
    "\n",
    "# If you don't use stop, it will be implied that it is the end\n",
    "print s[7:]\n"
   ]
  },
  {
   "cell_type": "markdown",
   "metadata": {},
   "source": [
    "A technique called __slicing__ allows you to define a step with the following syntax:\n",
    "\n",
    "    s[start:stop:step]"
   ]
  },
  {
   "cell_type": "code",
   "execution_count": 24,
   "metadata": {},
   "outputs": [
    {
     "data": {
      "text/plain": [
       "'Hlo\"SL!'"
      ]
     },
     "execution_count": 24,
     "metadata": {},
     "output_type": "execute_result"
    }
   ],
   "source": [
    "s[0::2]"
   ]
  },
  {
   "cell_type": "markdown",
   "metadata": {},
   "source": [
    "## Problem 1.2\n",
    "Slice the string made of all consecutive letters of the alphabet to generate the following substring: \n",
    "    \n",
    "    cfilorux"
   ]
  },
  {
   "cell_type": "code",
   "execution_count": 52,
   "metadata": {},
   "outputs": [
    {
     "name": "stdout",
     "output_type": "stream",
     "text": [
      "cfilorux\n"
     ]
    }
   ],
   "source": [
    "import string\n",
    "alphabet = string.ascii_lowercase\n",
    "# TODO\n",
    "word='cfilorux'\n",
    "newword=''\n",
    "for letter in alphabet:\n",
    "    for letter1 in word:\n",
    "        if letter==letter1:\n",
    "            newword=newword+letter\n",
    "print newword\n",
    "        "
   ]
  },
  {
   "cell_type": "markdown",
   "metadata": {},
   "source": [
    "### Formatting strings"
   ]
  },
  {
   "cell_type": "code",
   "execution_count": 53,
   "metadata": {},
   "outputs": [
    {
     "name": "stdout",
     "output_type": "stream",
     "text": [
      "string1 string2\n"
     ]
    }
   ],
   "source": [
    "print \"string1\", \"string2\" # add spaces between strings"
   ]
  },
  {
   "cell_type": "code",
   "execution_count": 54,
   "metadata": {},
   "outputs": [
    {
     "name": "stdout",
     "output_type": "stream",
     "text": [
      "string1string2\n"
     ]
    }
   ],
   "source": [
    "print \"string1\" + \"string2\" # concatenation without spaces"
   ]
  },
  {
   "cell_type": "code",
   "execution_count": 55,
   "metadata": {},
   "outputs": [
    {
     "name": "stdout",
     "output_type": "stream",
     "text": [
      "string1string1\n"
     ]
    }
   ],
   "source": [
    "print \"string1\" * 2"
   ]
  },
  {
   "cell_type": "code",
   "execution_count": 56,
   "metadata": {},
   "outputs": [
    {
     "name": "stdout",
     "output_type": "stream",
     "text": [
      "string1 1 False\n"
     ]
    }
   ],
   "source": [
    "print \"string1\", 1, False # converts all variables to strings"
   ]
  },
  {
   "cell_type": "code",
   "execution_count": 57,
   "metadata": {},
   "outputs": [
    {
     "name": "stdout",
     "output_type": "stream",
     "text": [
      "value =  1.00002\n",
      "value = 1.00002\n",
      "\n",
      "value = 1.00002\n",
      "value = 1.000020e+00\n",
      "value = 1.00e+00\n",
      "value = 1.00\n",
      "value = 1.000020000000000\n",
      "value =   1\n"
     ]
    }
   ],
   "source": [
    "a = 1.00002\n",
    "print \"value = \", a\n",
    "print \"value = \" + str(a)\n",
    "print \"\"\n",
    "\n",
    "print \"value = %s\" % a     # %s = string\n",
    "print \"value = %e\" % a     # %e = engineering notation\n",
    "print \"value = %.2e\" % a   # engineering notation with 2 significant digits\n",
    "print \"value = %.2f\" % a   # float with 2 significant digits\n",
    "print \"value = %.15f\" % a  # float with 15 significant digits \n",
    "print \"value = %3d\" % a    # integer (3 digits)"
   ]
  },
  {
   "cell_type": "code",
   "execution_count": 58,
   "metadata": {},
   "outputs": [
    {
     "name": "stdout",
     "output_type": "stream",
     "text": [
      "value1 = 2.15 and value2 = 7\n"
     ]
    }
   ],
   "source": [
    "print \"value1 = %.2f and value2 = %d\" % (2.150001, 7)"
   ]
  },
  {
   "cell_type": "code",
   "execution_count": 60,
   "metadata": {},
   "outputs": [
    {
     "name": "stdout",
     "output_type": "stream",
     "text": [
      "pi is approximately equal to 3.14e+00\n",
      "e is approximately equal to 2.72e+00\n"
     ]
    }
   ],
   "source": [
    "s = \"%s is approximately equal to %.2e\"\n",
    "import math \n",
    "print s % (\"pi\", math.pi)\n",
    "print s % (\"e\", math.exp(1.))\n"
   ]
  },
  {
   "cell_type": "markdown",
   "metadata": {},
   "source": [
    "## Lists\n",
    "Lists are very similar to strings, except that elements, instead of being characters, can be of any type."
   ]
  },
  {
   "cell_type": "code",
   "execution_count": 61,
   "metadata": {},
   "outputs": [
    {
     "name": "stdout",
     "output_type": "stream",
     "text": [
      "[1, 2, 3, 4, 'five']\n",
      "<type 'list'>\n"
     ]
    }
   ],
   "source": [
    "my_list = [1, 2, 3, 4, 'five']\n",
    "print my_list\n",
    "print type(my_list)"
   ]
  },
  {
   "cell_type": "markdown",
   "metadata": {},
   "source": [
    "Slicing works exactly the same as with strings."
   ]
  },
  {
   "cell_type": "code",
   "execution_count": 62,
   "metadata": {},
   "outputs": [
    {
     "name": "stdout",
     "output_type": "stream",
     "text": [
      "1 five\n",
      "['five', 4, 3, 2]\n"
     ]
    }
   ],
   "source": [
    "print my_list[0], my_list[-1]\n",
    "print my_list[-1:0:-1]"
   ]
  },
  {
   "cell_type": "code",
   "execution_count": 63,
   "metadata": {},
   "outputs": [
    {
     "name": "stdout",
     "output_type": "stream",
     "text": [
      "<type 'int'>\n",
      "<type 'str'>\n"
     ]
    }
   ],
   "source": [
    "print type(my_list[0])\n",
    "print type(my_list[-1])"
   ]
  },
  {
   "cell_type": "markdown",
   "metadata": {},
   "source": [
    "A list can contain another list:"
   ]
  },
  {
   "cell_type": "code",
   "execution_count": 64,
   "metadata": {},
   "outputs": [
    {
     "name": "stdout",
     "output_type": "stream",
     "text": [
      "[[1, 2, 3], [4, 5, 6]]\n"
     ]
    }
   ],
   "source": [
    "my_list = [[1, 2, 3], [4, 5, 6]]\n",
    "print my_list"
   ]
  },
  {
   "cell_type": "markdown",
   "metadata": {},
   "source": [
    "`range` can be used to generate a list of integers:"
   ]
  },
  {
   "cell_type": "code",
   "execution_count": 65,
   "metadata": {},
   "outputs": [
    {
     "name": "stdout",
     "output_type": "stream",
     "text": [
      "[10, 12, 14, 16, 18]\n"
     ]
    }
   ],
   "source": [
    "start = 10\n",
    "stop = 20\n",
    "step = 2\n",
    "print range(start, stop, step)"
   ]
  },
  {
   "cell_type": "code",
   "execution_count": 66,
   "metadata": {},
   "outputs": [
    {
     "name": "stdout",
     "output_type": "stream",
     "text": [
      "[20, 18, 16, 14, 12]\n"
     ]
    }
   ],
   "source": [
    "# Iterate backwards\n",
    "print range(20, 10, -2)"
   ]
  },
  {
   "cell_type": "code",
   "execution_count": 67,
   "metadata": {},
   "outputs": [
    {
     "name": "stdout",
     "output_type": "stream",
     "text": [
      "[0, 1, 2, 3, 4, 5, 6]\n"
     ]
    }
   ],
   "source": [
    "# Implicit start (=0) and step (=1)\n",
    "print range(7)"
   ]
  },
  {
   "cell_type": "code",
   "execution_count": 68,
   "metadata": {},
   "outputs": [
    {
     "name": "stdout",
     "output_type": "stream",
     "text": [
      "[12, 14, 16, 18, 20]\n"
     ]
    }
   ],
   "source": [
    "# Sort a list in place\n",
    "my_list = range(20, 10, -2)\n",
    "my_list.sort()\n",
    "print my_list"
   ]
  },
  {
   "cell_type": "markdown",
   "metadata": {},
   "source": [
    "### Add/remove elements to/from a list"
   ]
  },
  {
   "cell_type": "code",
   "execution_count": 69,
   "metadata": {
    "collapsed": true
   },
   "outputs": [],
   "source": [
    "# Create an empty list\n",
    "l = []"
   ]
  },
  {
   "cell_type": "code",
   "execution_count": 70,
   "metadata": {},
   "outputs": [
    {
     "name": "stdout",
     "output_type": "stream",
     "text": [
      "['A']\n"
     ]
    }
   ],
   "source": [
    "# Add items with 'append'\n",
    "l.append(\"A\")\n",
    "print l"
   ]
  },
  {
   "cell_type": "code",
   "execution_count": 71,
   "metadata": {},
   "outputs": [
    {
     "name": "stdout",
     "output_type": "stream",
     "text": [
      "['A', 'A', 'B', 'C']\n"
     ]
    }
   ],
   "source": [
    "# Concatenate lists\n",
    "m = ['A', 'B', 'C']\n",
    "print l+m"
   ]
  },
  {
   "cell_type": "code",
   "execution_count": 72,
   "metadata": {},
   "outputs": [
    {
     "name": "stdout",
     "output_type": "stream",
     "text": [
      "['A']\n",
      "['A', 'A', 'B', 'C']\n"
     ]
    }
   ],
   "source": [
    "print l\n",
    "l.extend(m)\n",
    "print l"
   ]
  },
  {
   "cell_type": "code",
   "execution_count": 73,
   "metadata": {},
   "outputs": [
    {
     "name": "stdout",
     "output_type": "stream",
     "text": [
      "['A', 'A', 'B', 'C', 'A', 'A', 'B', 'C']\n"
     ]
    }
   ],
   "source": [
    "print l * 2"
   ]
  },
  {
   "cell_type": "code",
   "execution_count": 74,
   "metadata": {},
   "outputs": [
    {
     "name": "stdout",
     "output_type": "stream",
     "text": [
      "['D', 'A', 'B', 'C']\n"
     ]
    }
   ],
   "source": [
    "# Modify an item\n",
    "l[0] = 'D'\n",
    "print l"
   ]
  },
  {
   "cell_type": "code",
   "execution_count": 75,
   "metadata": {},
   "outputs": [
    {
     "name": "stdout",
     "output_type": "stream",
     "text": [
      "['E', 'E', 'E', 'B', 'C']\n"
     ]
    }
   ],
   "source": [
    "# Modify a slice\n",
    "l[:2] = ['E', 'E', 'E']\n",
    "print l"
   ]
  },
  {
   "cell_type": "code",
   "execution_count": 76,
   "metadata": {},
   "outputs": [
    {
     "name": "stdout",
     "output_type": "stream",
     "text": [
      "['F', 'E', 'E', 'E', 'B', 'C']\n",
      "['F', 'E', 'E', 'E', 'G', 'B', 'C']\n"
     ]
    }
   ],
   "source": [
    "# Insert an item to a specific position\n",
    "l.insert(0, \"F\")\n",
    "print l\n",
    "l.insert(4, 'G')\n",
    "print l"
   ]
  },
  {
   "cell_type": "code",
   "execution_count": 77,
   "metadata": {},
   "outputs": [
    {
     "name": "stdout",
     "output_type": "stream",
     "text": [
      "['F', 'E', 'E', 'G', 'B', 'C']\n"
     ]
    }
   ],
   "source": [
    "# Remove the first occurence of an item \n",
    "l.remove('E')\n",
    "print l"
   ]
  },
  {
   "cell_type": "code",
   "execution_count": 78,
   "metadata": {},
   "outputs": [
    {
     "name": "stdout",
     "output_type": "stream",
     "text": [
      "['F', 'E', 'G', 'B', 'C']\n"
     ]
    }
   ],
   "source": [
    "# Remove an item at a specific position\n",
    "del l[1]\n",
    "print l"
   ]
  },
  {
   "cell_type": "code",
   "execution_count": 79,
   "metadata": {},
   "outputs": [
    {
     "name": "stdout",
     "output_type": "stream",
     "text": [
      "['F', 'E', 'G', 'B']\n"
     ]
    }
   ],
   "source": [
    "# Remove the last item of a list\n",
    "l.pop()\n",
    "print l"
   ]
  },
  {
   "cell_type": "code",
   "execution_count": 80,
   "metadata": {},
   "outputs": [
    {
     "name": "stdout",
     "output_type": "stream",
     "text": [
      "False\n",
      "False\n"
     ]
    },
    {
     "ename": "ValueError",
     "evalue": "'A' is not in list",
     "output_type": "error",
     "traceback": [
      "\u001b[1;31m---------------------------------------------------------------------------\u001b[0m",
      "\u001b[1;31mValueError\u001b[0m                                Traceback (most recent call last)",
      "\u001b[1;32m<ipython-input-80-4d2cdfee9823>\u001b[0m in \u001b[0;36m<module>\u001b[1;34m()\u001b[0m\n\u001b[0;32m      2\u001b[0m \u001b[1;32mprint\u001b[0m \u001b[1;34m'A'\u001b[0m \u001b[1;32min\u001b[0m \u001b[0ml\u001b[0m\u001b[1;33m\u001b[0m\u001b[0m\n\u001b[0;32m      3\u001b[0m \u001b[1;32mprint\u001b[0m \u001b[1;34m'banana'\u001b[0m \u001b[1;32min\u001b[0m \u001b[0ml\u001b[0m\u001b[1;33m\u001b[0m\u001b[0m\n\u001b[1;32m----> 4\u001b[1;33m \u001b[1;32mprint\u001b[0m \u001b[0ml\u001b[0m\u001b[1;33m.\u001b[0m\u001b[0mindex\u001b[0m\u001b[1;33m(\u001b[0m\u001b[1;34m'A'\u001b[0m\u001b[1;33m)\u001b[0m\u001b[1;33m\u001b[0m\u001b[0m\n\u001b[0m\u001b[0;32m      5\u001b[0m \u001b[1;32mprint\u001b[0m \u001b[0ml\u001b[0m\u001b[1;33m.\u001b[0m\u001b[0mindex\u001b[0m\u001b[1;33m(\u001b[0m\u001b[1;34m'strawberry'\u001b[0m\u001b[1;33m)\u001b[0m\u001b[1;33m\u001b[0m\u001b[0m\n",
      "\u001b[1;31mValueError\u001b[0m: 'A' is not in list"
     ]
    }
   ],
   "source": [
    "# Does an item belong to a list?\n",
    "print 'A' in l\n",
    "print 'banana' in l\n",
    "print l.index('A')\n",
    "print l.index('strawberry')"
   ]
  },
  {
   "cell_type": "markdown",
   "metadata": {},
   "source": [
    "## Tuples\n",
    "Tuples are like lists, but they are immutable: they cannot be modified once created."
   ]
  },
  {
   "cell_type": "code",
   "execution_count": 81,
   "metadata": {},
   "outputs": [
    {
     "name": "stdout",
     "output_type": "stream",
     "text": [
      "(0, 1)\n",
      "<type 'tuple'>\n"
     ]
    }
   ],
   "source": [
    "t = (0, 1)\n",
    "print t\n",
    "print type(t)"
   ]
  },
  {
   "cell_type": "code",
   "execution_count": 82,
   "metadata": {},
   "outputs": [
    {
     "name": "stdout",
     "output_type": "stream",
     "text": [
      "(0, 1, 7)\n",
      "<type 'tuple'>\n"
     ]
    }
   ],
   "source": [
    "t = 0, 1, 7\n",
    "print t\n",
    "print type(t)"
   ]
  },
  {
   "cell_type": "code",
   "execution_count": 83,
   "metadata": {},
   "outputs": [
    {
     "name": "stdout",
     "output_type": "stream",
     "text": [
      "(0, 1, 'seven')\n",
      "<type 'tuple'>\n"
     ]
    }
   ],
   "source": [
    "t = 0, 1, 'seven'\n",
    "print t\n",
    "print type(t)"
   ]
  },
  {
   "cell_type": "code",
   "execution_count": 84,
   "metadata": {},
   "outputs": [
    {
     "name": "stdout",
     "output_type": "stream",
     "text": [
      "True\n",
      "False\n",
      "1\n"
     ]
    },
    {
     "ename": "ValueError",
     "evalue": "tuple.index(x): x not in tuple",
     "output_type": "error",
     "traceback": [
      "\u001b[1;31m---------------------------------------------------------------------------\u001b[0m",
      "\u001b[1;31mValueError\u001b[0m                                Traceback (most recent call last)",
      "\u001b[1;32m<ipython-input-84-19e95526794e>\u001b[0m in \u001b[0;36m<module>\u001b[1;34m()\u001b[0m\n\u001b[0;32m      3\u001b[0m \u001b[1;32mprint\u001b[0m \u001b[1;34m'banana'\u001b[0m \u001b[1;32min\u001b[0m \u001b[0mt\u001b[0m\u001b[1;33m\u001b[0m\u001b[0m\n\u001b[0;32m      4\u001b[0m \u001b[1;32mprint\u001b[0m \u001b[0mt\u001b[0m\u001b[1;33m.\u001b[0m\u001b[0mindex\u001b[0m\u001b[1;33m(\u001b[0m\u001b[1;36m1\u001b[0m\u001b[1;33m)\u001b[0m\u001b[1;33m\u001b[0m\u001b[0m\n\u001b[1;32m----> 5\u001b[1;33m \u001b[1;32mprint\u001b[0m \u001b[0mt\u001b[0m\u001b[1;33m.\u001b[0m\u001b[0mindex\u001b[0m\u001b[1;33m(\u001b[0m\u001b[1;34m'banana'\u001b[0m\u001b[1;33m)\u001b[0m\u001b[1;33m\u001b[0m\u001b[0m\n\u001b[0m",
      "\u001b[1;31mValueError\u001b[0m: tuple.index(x): x not in tuple"
     ]
    }
   ],
   "source": [
    "# Does an item belong to a tuple?\n",
    "print 0 in t\n",
    "print 'banana' in t\n",
    "print t.index(1)\n",
    "print t.index('banana')"
   ]
  },
  {
   "cell_type": "markdown",
   "metadata": {},
   "source": [
    "## Dictionaries\n",
    "Dictionaries are used to store _key_, _value_ pairs of matched items."
   ]
  },
  {
   "cell_type": "code",
   "execution_count": 85,
   "metadata": {},
   "outputs": [
    {
     "name": "stdout",
     "output_type": "stream",
     "text": [
      "{'parameter1': 1.0, 'parameter2': 2.0}\n",
      "<type 'dict'>\n"
     ]
    }
   ],
   "source": [
    "d = {\"parameter1\" : 1.0, \n",
    "     \"parameter2\": 2.0}\n",
    "print d\n",
    "print type(d)"
   ]
  },
  {
   "cell_type": "code",
   "execution_count": 86,
   "metadata": {},
   "outputs": [
    {
     "name": "stdout",
     "output_type": "stream",
     "text": [
      "{'parameter1': 1.0, 'parameter2': 1.0}\n",
      "<type 'dict'>\n"
     ]
    }
   ],
   "source": [
    "d = dict(parameter1=1.0, \n",
    "         parameter2=1.0)\n",
    "print d\n",
    "print type(d)"
   ]
  },
  {
   "cell_type": "code",
   "execution_count": 87,
   "metadata": {},
   "outputs": [
    {
     "name": "stdout",
     "output_type": "stream",
     "text": [
      "{'parameter1': 1.0, 'parameter3': 3.0, 'parameter2': 1.0}\n"
     ]
    }
   ],
   "source": [
    "# Add a key-value pair\n",
    "d['parameter3'] = 3.0\n",
    "print d"
   ]
  },
  {
   "cell_type": "code",
   "execution_count": 88,
   "metadata": {},
   "outputs": [
    {
     "name": "stdout",
     "output_type": "stream",
     "text": [
      "{'parameter1': 1.0, 'parameter3': 3.0}\n"
     ]
    }
   ],
   "source": [
    "# Remove a key-value pair\n",
    "del d['parameter2']\n",
    "print d"
   ]
  },
  {
   "cell_type": "code",
   "execution_count": 89,
   "metadata": {},
   "outputs": [
    {
     "name": "stdout",
     "output_type": "stream",
     "text": [
      "True\n",
      "False\n",
      "True\n",
      "False\n",
      "1.0\n"
     ]
    },
    {
     "ename": "KeyError",
     "evalue": "'banana'",
     "output_type": "error",
     "traceback": [
      "\u001b[1;31m---------------------------------------------------------------------------\u001b[0m",
      "\u001b[1;31mKeyError\u001b[0m                                  Traceback (most recent call last)",
      "\u001b[1;32m<ipython-input-89-365041b54199>\u001b[0m in \u001b[0;36m<module>\u001b[1;34m()\u001b[0m\n\u001b[0;32m      7\u001b[0m \u001b[1;33m\u001b[0m\u001b[0m\n\u001b[0;32m      8\u001b[0m \u001b[1;32mprint\u001b[0m \u001b[0md\u001b[0m\u001b[1;33m[\u001b[0m\u001b[1;34m'parameter1'\u001b[0m\u001b[1;33m]\u001b[0m\u001b[1;33m\u001b[0m\u001b[0m\n\u001b[1;32m----> 9\u001b[1;33m \u001b[1;32mprint\u001b[0m \u001b[0md\u001b[0m\u001b[1;33m[\u001b[0m\u001b[1;34m'banana'\u001b[0m\u001b[1;33m]\u001b[0m\u001b[1;33m\u001b[0m\u001b[0m\n\u001b[0m",
      "\u001b[1;31mKeyError\u001b[0m: 'banana'"
     ]
    }
   ],
   "source": [
    "# Does a key belong to a dictionary?\n",
    "print 'parameter1' in d\n",
    "print 'banana' in d\n",
    "\n",
    "print d.has_key('parameter1')\n",
    "print d.has_key('banana')\n",
    "\n",
    "print d['parameter1']\n",
    "print d['banana']"
   ]
  },
  {
   "cell_type": "markdown",
   "metadata": {},
   "source": [
    "## Branching"
   ]
  },
  {
   "cell_type": "code",
   "execution_count": 90,
   "metadata": {},
   "outputs": [
    {
     "name": "stdout",
     "output_type": "stream",
     "text": [
      "b is strictly less than a\n"
     ]
    }
   ],
   "source": [
    "a = 3\n",
    "b = 2\n",
    "\n",
    "if a < b:\n",
    "    print \"a is strictly less than b\"\n",
    "elif a > b:\n",
    "    print \"b is strictly less than a\"\n",
    "else:\n",
    "    print \"b is equal to a\""
   ]
  },
  {
   "cell_type": "code",
   "execution_count": 91,
   "metadata": {},
   "outputs": [
    {
     "name": "stdout",
     "output_type": "stream",
     "text": [
      "b is strictly less than a\n"
     ]
    }
   ],
   "source": [
    "# Equivalently\n",
    "\n",
    "statement1 = a < b\n",
    "statement2 = a > b\n",
    "\n",
    "if statement1:\n",
    "    print \"a is strictly less than b\"\n",
    "elif statement2:\n",
    "    print \"b is strictly less than a\"\n",
    "else:\n",
    "    print \"b is equal to a\""
   ]
  },
  {
   "cell_type": "markdown",
   "metadata": {},
   "source": [
    "__Indents are mandatory in Python__, as they influence how the code is being executed."
   ]
  },
  {
   "cell_type": "code",
   "execution_count": 92,
   "metadata": {},
   "outputs": [
    {
     "name": "stdout",
     "output_type": "stream",
     "text": [
      "both statement1 and statement2 are True\n"
     ]
    }
   ],
   "source": [
    "statement1 = True\n",
    "statement2 = True\n",
    "\n",
    "if statement1:\n",
    "    if statement2:\n",
    "        print(\"both statement1 and statement2 are True\")"
   ]
  },
  {
   "cell_type": "code",
   "execution_count": 93,
   "metadata": {},
   "outputs": [
    {
     "ename": "IndentationError",
     "evalue": "expected an indented block (<ipython-input-93-44a60dceb877>, line 3)",
     "output_type": "error",
     "traceback": [
      "\u001b[1;36m  File \u001b[1;32m\"<ipython-input-93-44a60dceb877>\"\u001b[1;36m, line \u001b[1;32m3\u001b[0m\n\u001b[1;33m    print(\"both statement1 and statement2 are True\")\u001b[0m\n\u001b[1;37m        ^\u001b[0m\n\u001b[1;31mIndentationError\u001b[0m\u001b[1;31m:\u001b[0m expected an indented block\n"
     ]
    }
   ],
   "source": [
    "if statement1:\n",
    "    if statement2:\n",
    "    print(\"both statement1 and statement2 are True\")"
   ]
  },
  {
   "cell_type": "code",
   "execution_count": 94,
   "metadata": {},
   "outputs": [
    {
     "name": "stdout",
     "output_type": "stream",
     "text": [
      "printed no matter what\n"
     ]
    }
   ],
   "source": [
    "if not statement1:\n",
    "    print(\"printed only if statement1 is False\")\n",
    "    print(\"printed only if statement1 is False\")\n",
    "print(\"printed no matter what\")"
   ]
  },
  {
   "cell_type": "markdown",
   "metadata": {},
   "source": [
    "## For loops\n",
    "\n",
    "Loops iterate over the item of a list:"
   ]
  },
  {
   "cell_type": "code",
   "execution_count": 95,
   "metadata": {},
   "outputs": [
    {
     "name": "stdout",
     "output_type": "stream",
     "text": [
      "1\n",
      "2\n",
      "3\n"
     ]
    }
   ],
   "source": [
    "for x in [1, 2, 3]:\n",
    "    print x"
   ]
  },
  {
   "cell_type": "code",
   "execution_count": 96,
   "metadata": {},
   "outputs": [
    {
     "name": "stdout",
     "output_type": "stream",
     "text": [
      "0\n",
      "1\n",
      "2\n",
      "3\n"
     ]
    }
   ],
   "source": [
    "for x in range(4):\n",
    "    print x"
   ]
  },
  {
   "cell_type": "code",
   "execution_count": 97,
   "metadata": {},
   "outputs": [
    {
     "name": "stdout",
     "output_type": "stream",
     "text": [
      "p\n",
      "y\n",
      "t\n",
      "h\n",
      "o\n",
      "n\n"
     ]
    }
   ],
   "source": [
    "for x in \"python\":\n",
    "    print x"
   ]
  },
  {
   "cell_type": "code",
   "execution_count": 98,
   "metadata": {},
   "outputs": [
    {
     "name": "stdout",
     "output_type": "stream",
     "text": [
      "parameter1 : 1.0\n",
      "parameter3 : 3.0\n"
     ]
    }
   ],
   "source": [
    "# Iterate over a dictionary:\n",
    "for key, value in d.iteritems():\n",
    "    print key, \":\", value"
   ]
  },
  {
   "cell_type": "code",
   "execution_count": 99,
   "metadata": {},
   "outputs": [
    {
     "name": "stdout",
     "output_type": "stream",
     "text": [
      "parameter1 : 1.0\n",
      "parameter3 : 3.0\n"
     ]
    }
   ],
   "source": [
    "for key in d:\n",
    "    print key, \":\", d[key]"
   ]
  },
  {
   "cell_type": "code",
   "execution_count": 100,
   "metadata": {},
   "outputs": [
    {
     "name": "stdout",
     "output_type": "stream",
     "text": [
      "1.0\n",
      "3.0\n"
     ]
    }
   ],
   "source": [
    "for value in d.values():\n",
    "    print value"
   ]
  },
  {
   "cell_type": "markdown",
   "metadata": {},
   "source": [
    "To have access to both the value and the index of the element you are looping over, use `enumerate`:"
   ]
  },
  {
   "cell_type": "code",
   "execution_count": 101,
   "metadata": {},
   "outputs": [
    {
     "name": "stdout",
     "output_type": "stream",
     "text": [
      "0: F\n",
      "1: E\n",
      "2: G\n",
      "3: B\n"
     ]
    }
   ],
   "source": [
    "# Not very pythonic\n",
    "for i in range(len(l)):\n",
    "    print \"%d: %s\" % (i, l[i])"
   ]
  },
  {
   "cell_type": "code",
   "execution_count": 102,
   "metadata": {},
   "outputs": [
    {
     "name": "stdout",
     "output_type": "stream",
     "text": [
      "0: F\n",
      "1: E\n",
      "2: G\n",
      "3: B\n"
     ]
    }
   ],
   "source": [
    "# With enumerate:\n",
    "for i, x in enumerate(l):\n",
    "    print \"%d: %s\" % (i, x)"
   ]
  },
  {
   "cell_type": "markdown",
   "metadata": {},
   "source": [
    "## Problem 1.3\n",
    "Create a dictionary that counts the occurrence of each letter in the string `Hello LSML 2017!!`."
   ]
  },
  {
   "cell_type": "code",
   "execution_count": 110,
   "metadata": {},
   "outputs": [
    {
     "name": "stdout",
     "output_type": "stream",
     "text": [
      "{'!': 2, 'e': 1, 'h': 1, 'm': 1, 'l': 4, 'o': 1, '1': 1, '0': 1, 's': 1, '2': 1, '7': 1}\n"
     ]
    }
   ],
   "source": [
    "s = 'Hello LSML 2017!!'\n",
    "my_dict = {}\n",
    "# TODO \n",
    "s=s.lower()\n",
    "for letter in s:\n",
    "    if letter!=' ':\n",
    "        if letter not in my_dict:\n",
    "            my_dict[letter]=1\n",
    "        else:\n",
    "            my_dict[letter]=my_dict[letter]+1\n",
    "print my_dict    "
   ]
  },
  {
   "cell_type": "markdown",
   "metadata": {},
   "source": [
    "## Problem 1.4\n",
    "Write code that will encode a message by replacing \"e\" with \"a\", \"o\" with e, and \"l\" with m.\n",
    "Apply it to the message 'Hello world!'\n",
    "\n",
    "Write code that will decode the message.\n",
    "Apply it to the message 'Pythen is ceem!'"
   ]
  },
  {
   "cell_type": "code",
   "execution_count": 43,
   "metadata": {},
   "outputs": [
    {
     "name": "stdout",
     "output_type": "stream",
     "text": [
      "Hamme wermd!\n"
     ]
    }
   ],
   "source": [
    "code_dict = {'e': 'a', 'o':'e', 'l': 'm'}\n",
    "s = 'Hello world!'\n",
    "\n",
    "s_coded = ''\n",
    "# TODO \n",
    "for letter in s:\n",
    "    for key in code_dict:\n",
    "        if letter==key:\n",
    "            s_coded=s_coded+code_dict[key]\n",
    "        if letter not in code_dict:\n",
    "            s_coded=s_coded+letter\n",
    "            break\n",
    "        \n",
    "\n",
    "print s_coded       #HAMME WERMD"
   ]
  },
  {
   "cell_type": "code",
   "execution_count": 46,
   "metadata": {},
   "outputs": [
    {
     "name": "stdout",
     "output_type": "stream",
     "text": [
      "Python is cool!\n"
     ]
    }
   ],
   "source": [
    "decode_dict = {}\n",
    "for k, v in code_dict.iteritems():\n",
    "    decode_dict[v] = k\n",
    "\n",
    "s_coded = 'Pythen is ceem!'\n",
    "\n",
    "s_decoded = ''\n",
    "# TODO \n",
    "for letter in s_coded:\n",
    "    for key in decode_dict:\n",
    "        if letter==key:\n",
    "            s_decoded=s_decoded+decode_dict[key]\n",
    "        if letter not in decode_dict:\n",
    "            s_decoded=s_decoded+letter\n",
    "            break\n",
    "        \n",
    "\n",
    "            \n",
    "print s_decoded"
   ]
  },
  {
   "cell_type": "markdown",
   "metadata": {},
   "source": [
    "### List comprehensions\n",
    "\n",
    "List comprehensions can be used to construct lists with for loops, in a very compact way."
   ]
  },
  {
   "cell_type": "code",
   "execution_count": 47,
   "metadata": {},
   "outputs": [
    {
     "name": "stdout",
     "output_type": "stream",
     "text": [
      "[0, 1, 4, 9, 16]\n"
     ]
    }
   ],
   "source": [
    "# Long version\n",
    "l = []\n",
    "for x in range(5):\n",
    "    l.append(x**2)\n",
    "print l"
   ]
  },
  {
   "cell_type": "code",
   "execution_count": 48,
   "metadata": {},
   "outputs": [
    {
     "name": "stdout",
     "output_type": "stream",
     "text": [
      "[0, 1, 4, 9, 16]\n"
     ]
    }
   ],
   "source": [
    "# Short version, with list comprehension\n",
    "l = [x**2 for x in range(5)]\n",
    "print l"
   ]
  },
  {
   "cell_type": "markdown",
   "metadata": {},
   "source": [
    "## While loops"
   ]
  },
  {
   "cell_type": "code",
   "execution_count": 49,
   "metadata": {},
   "outputs": [
    {
     "name": "stdout",
     "output_type": "stream",
     "text": [
      "0\n",
      "1\n",
      "2\n",
      "3\n",
      "4\n",
      "Done.\n"
     ]
    }
   ],
   "source": [
    "i = 0\n",
    "while i < 5:\n",
    "    print i\n",
    "    i += 1\n",
    "    \n",
    "print \"Done.\""
   ]
  },
  {
   "cell_type": "markdown",
   "metadata": {},
   "source": [
    "## Problem 1.5\n",
    "Compute an approximation of $\\pi$ using Wallis' product: $\\pi = 2 \\prod_{n=1}^\\infty \\frac{4 n^2}{4 n^2 - 1}$"
   ]
  },
  {
   "cell_type": "code",
   "execution_count": 104,
   "metadata": {},
   "outputs": [
    {
     "ename": "KeyboardInterrupt",
     "evalue": "",
     "output_type": "error",
     "traceback": [
      "\u001b[1;31m---------------------------------------------------------------------------\u001b[0m",
      "\u001b[1;31mKeyboardInterrupt\u001b[0m                         Traceback (most recent call last)",
      "\u001b[1;32m<ipython-input-104-23bd1b6a0515>\u001b[0m in \u001b[0;36m<module>\u001b[1;34m()\u001b[0m\n\u001b[0;32m      5\u001b[0m \u001b[1;33m\u001b[0m\u001b[0m\n\u001b[0;32m      6\u001b[0m \u001b[1;32mwhile\u001b[0m\u001b[1;33m(\u001b[0m\u001b[0mabs\u001b[0m\u001b[1;33m(\u001b[0m\u001b[0mpi\u001b[0m\u001b[1;33m-\u001b[0m\u001b[0mprod\u001b[0m\u001b[1;33m)\u001b[0m\u001b[1;33m>\u001b[0m\u001b[1;36m0.01\u001b[0m\u001b[1;33m)\u001b[0m\u001b[1;33m:\u001b[0m\u001b[1;33m\u001b[0m\u001b[0m\n\u001b[1;32m----> 7\u001b[1;33m     \u001b[0mprod\u001b[0m\u001b[1;33m=\u001b[0m\u001b[0mprod\u001b[0m\u001b[1;33m*\u001b[0m\u001b[1;33m(\u001b[0m\u001b[1;36m2\u001b[0m\u001b[1;33m*\u001b[0m\u001b[1;33m(\u001b[0m\u001b[1;36m4\u001b[0m\u001b[1;33m*\u001b[0m\u001b[0mn\u001b[0m\u001b[1;33m**\u001b[0m\u001b[1;36m2\u001b[0m\u001b[1;33m)\u001b[0m\u001b[1;33m/\u001b[0m\u001b[1;33m(\u001b[0m\u001b[1;33m(\u001b[0m\u001b[1;36m4\u001b[0m\u001b[1;33m*\u001b[0m\u001b[0mn\u001b[0m\u001b[1;33m**\u001b[0m\u001b[1;36m2\u001b[0m\u001b[1;33m)\u001b[0m \u001b[1;33m-\u001b[0m\u001b[1;36m1\u001b[0m\u001b[1;33m)\u001b[0m\u001b[1;33m)\u001b[0m\u001b[1;33m\u001b[0m\u001b[0m\n\u001b[0m\u001b[0;32m      8\u001b[0m     \u001b[0mn\u001b[0m\u001b[1;33m=\u001b[0m\u001b[0mn\u001b[0m\u001b[1;33m+\u001b[0m\u001b[1;36m1\u001b[0m\u001b[1;33m\u001b[0m\u001b[0m\n\u001b[0;32m      9\u001b[0m \u001b[1;32mprint\u001b[0m \u001b[0mprod\u001b[0m\u001b[1;33m\u001b[0m\u001b[0m\n",
      "\u001b[1;31mKeyboardInterrupt\u001b[0m: "
     ]
    }
   ],
   "source": [
    "import math as m\n",
    "pi=m.pi\n",
    "prod=1.0\n",
    "n=1\n",
    "\n",
    "while(abs(pi-prod)>0.01):\n",
    "    prod=prod*(2*(4*n**2)/((4*n**2) -1))\n",
    "    n=n+1\n",
    "print prod"
   ]
  },
  {
   "cell_type": "markdown",
   "metadata": {},
   "source": [
    "## Functions"
   ]
  },
  {
   "cell_type": "code",
   "execution_count": 105,
   "metadata": {
    "collapsed": true
   },
   "outputs": [],
   "source": [
    "def my_1st_function():\n",
    "    print \"Welcome to LSML 2017!\""
   ]
  },
  {
   "cell_type": "code",
   "execution_count": 106,
   "metadata": {},
   "outputs": [
    {
     "name": "stdout",
     "output_type": "stream",
     "text": [
      "Welcome to LSML 2017!\n"
     ]
    }
   ],
   "source": [
    "my_1st_function()"
   ]
  },
  {
   "cell_type": "code",
   "execution_count": 107,
   "metadata": {},
   "outputs": [
    {
     "name": "stdout",
     "output_type": "stream",
     "text": [
      "<type 'function'>\n"
     ]
    }
   ],
   "source": [
    "print type(my_1st_function)"
   ]
  },
  {
   "cell_type": "markdown",
   "metadata": {},
   "source": [
    "Functions can be documented with docstrings:"
   ]
  },
  {
   "cell_type": "code",
   "execution_count": 108,
   "metadata": {
    "collapsed": true
   },
   "outputs": [],
   "source": [
    "def my_1st_function():\n",
    "    \"\"\"\n",
    "    Display a welcome message. \n",
    "    \"\"\"\n",
    "    print \"Welcome to LSML 2017!\""
   ]
  },
  {
   "cell_type": "code",
   "execution_count": 109,
   "metadata": {},
   "outputs": [
    {
     "name": "stdout",
     "output_type": "stream",
     "text": [
      "Help on function my_1st_function in module __main__:\n",
      "\n",
      "my_1st_function()\n",
      "    Display a welcome message.\n",
      "\n"
     ]
    }
   ],
   "source": [
    "help(my_1st_function)"
   ]
  },
  {
   "cell_type": "code",
   "execution_count": 110,
   "metadata": {
    "collapsed": true
   },
   "outputs": [],
   "source": [
    "# A function can return one value.\n",
    "def string_length(s):\n",
    "    \"\"\"\n",
    "    Return the length of a string.\n",
    "    \"\"\"\n",
    "    return len(s)"
   ]
  },
  {
   "cell_type": "code",
   "execution_count": 111,
   "metadata": {},
   "outputs": [
    {
     "name": "stdout",
     "output_type": "stream",
     "text": [
      "21\n"
     ]
    }
   ],
   "source": [
    "x = string_length(\"Welcome to LSML 2017!\")\n",
    "print x"
   ]
  },
  {
   "cell_type": "code",
   "execution_count": 112,
   "metadata": {},
   "outputs": [
    {
     "name": "stdout",
     "output_type": "stream",
     "text": [
      "(9, 27, 81)\n",
      "<type 'tuple'>\n"
     ]
    }
   ],
   "source": [
    "# A function can return several values as a tuple.\n",
    "def powers(n):\n",
    "    \"\"\"\n",
    "    Returns the first 3 powers of n.\n",
    "    \"\"\"\n",
    "    return n ** 2, n ** 3, n ** 4\n",
    "\n",
    "print powers(3)\n",
    "print type(powers(3))"
   ]
  },
  {
   "cell_type": "code",
   "execution_count": 113,
   "metadata": {
    "collapsed": true
   },
   "outputs": [],
   "source": [
    "# A function can have default argument\n",
    "def powers(n, verbose=False):\n",
    "    if verbose:\n",
    "        print \"Returning the first 3 powers of %d\" % n\n",
    "    return n ** 2, n ** 3, n ** 4"
   ]
  },
  {
   "cell_type": "code",
   "execution_count": 114,
   "metadata": {},
   "outputs": [
    {
     "name": "stdout",
     "output_type": "stream",
     "text": [
      "(9, 27, 81)\n"
     ]
    }
   ],
   "source": [
    "print powers(3)"
   ]
  },
  {
   "cell_type": "code",
   "execution_count": 115,
   "metadata": {},
   "outputs": [
    {
     "name": "stdout",
     "output_type": "stream",
     "text": [
      "Returning the first 3 powers of 3\n",
      "(9, 27, 81)\n"
     ]
    }
   ],
   "source": [
    "print powers(3, verbose=True)"
   ]
  },
  {
   "cell_type": "code",
   "execution_count": 116,
   "metadata": {},
   "outputs": [
    {
     "name": "stdout",
     "output_type": "stream",
     "text": [
      "Returning the first 3 powers of 3\n",
      "(9, 27, 81)\n"
     ]
    }
   ],
   "source": [
    "print powers(verbose=True, n=3)"
   ]
  },
  {
   "cell_type": "markdown",
   "metadata": {},
   "source": [
    "## Problem 1.6 — Quicksort\n",
    "\n",
    "Here's the pseudocode for quicksort (source: [Wikipedia](https://en.wikipedia.org/wiki/Quicksort)):\n",
    "\n",
    "```algorithm quicksort(A, low, high) is\n",
    "    if low < high then\n",
    "        p := partition(A, low, high)\n",
    "        quicksort(A, low, p – 1)\n",
    "        quicksort(A, p + 1, high)```\n",
    "\n",
    "```algorithm partition(A, low, high) is\n",
    "    pivot := A[high]\n",
    "    i := low - 1    \n",
    "    for j := low to high - 1 do\n",
    "        if A[j] ≤ pivot then\n",
    "            i := i + 1\n",
    "            swap A[i] with A[j]\n",
    "    swap A[i+1] with A[high]\n",
    "    return i + 1```\n",
    "    \n",
    "Transform this pseudocode in Python code."
   ]
  },
  {
   "cell_type": "code",
   "execution_count": null,
   "metadata": {
    "collapsed": true
   },
   "outputs": [],
   "source": [
    "def quicksort(A, low, high):\n",
    "    \"\"\"\n",
    "    Quicksort list A between positions low and high.\n",
    "    To quicksort entire list, apply to low=0 and high=len(A)-1.\n",
    "    \"\"\"\n",
    "    # TODO\n",
    "        \n",
    "def swap(A, i, j):\n",
    "    \"\"\"\n",
    "    Swap elements at position i and at position j in list A.\n",
    "    \"\"\"\n",
    "    # TODO\n",
    "    \n",
    "        \n",
    "def partition(A, low, high):\n",
    "    \"\"\"\n",
    "    Partition scheme.\n",
    "    \"\"\"\n",
    "    # TODO\n",
    "    return # TODO"
   ]
  },
  {
   "cell_type": "code",
   "execution_count": null,
   "metadata": {
    "collapsed": true
   },
   "outputs": [],
   "source": [
    "A = [1, 3, 0, 2, 7, 4]\n",
    "quicksort(A, 0, len(A)-1)\n",
    "print A"
   ]
  },
  {
   "cell_type": "markdown",
   "metadata": {},
   "source": [
    "## Classes \n",
    "\n",
    "Classes are possibly complex structures that allows us to represent an object (by its _attributes_)\n",
    "and the operations that can be applied to it (they are the class' _methods_). \n",
    "They are the central element of object-oriented programming.\n",
    "\n",
    "In Python classes are defined using `class`. \n",
    "\n",
    "The first argument of a method must be `self`. It's a mandatory self reference.\n",
    "\n",
    "Some specific methods have reserved names:\n",
    "* `__init__`: creates an instance of the object\n",
    "* `_str__`: transform an instance of the object into a string, for instance when called by `print`\n",
    "* and much more, see http://docs.python.org/2/reference/datamodel.html#special-method-names.\n"
   ]
  },
  {
   "cell_type": "code",
   "execution_count": 117,
   "metadata": {
    "collapsed": true
   },
   "outputs": [],
   "source": [
    "# Let us create a class for 2D points.\n",
    "class Point(object):\n",
    "    \"\"\"\n",
    "    Class to represent a point in 2D space.\n",
    "    \"\"\"\n",
    "    def __init__(self, x_value, y_value):\n",
    "        \"\"\"\n",
    "        Create a new point with coordinates (x, y)\n",
    "        \"\"\"\n",
    "        self.x = x_value\n",
    "        self.y = y_value\n",
    "        \n",
    "    def translate(self, dx, dy):\n",
    "        \"\"\"\n",
    "        Translate the point by dx along the x axis and dy along the y axis.\n",
    "        \"\"\"\n",
    "        self.x += dx\n",
    "        self.y += dy\n",
    "        \n",
    "    def __str__(self):\n",
    "        \"\"\"\n",
    "        Tansform an instance of the object into a string.\n",
    "        \"\"\"\n",
    "        return \"Point of coordinates (%f, %f)\" % (self.x, self.y)"
   ]
  },
  {
   "cell_type": "code",
   "execution_count": 118,
   "metadata": {},
   "outputs": [
    {
     "name": "stdout",
     "output_type": "stream",
     "text": [
      "Point of coordinates (0.000000, 0.000000)\n",
      "<class '__main__.Point'>\n"
     ]
    }
   ],
   "source": [
    "# Create a new Point instance:\n",
    "p1 = Point(0, 0) # calls __init__\n",
    "p2 = Point(x_value=1, y_value=2)\n",
    "\n",
    "print p1 # calls __str__\n",
    "print type(p1)"
   ]
  },
  {
   "cell_type": "code",
   "execution_count": 119,
   "metadata": {},
   "outputs": [
    {
     "name": "stdout",
     "output_type": "stream",
     "text": [
      "Point of coordinates (1.000000, 2.000000)\n",
      "Point of coordinates (0.000000, 1.000000)\n"
     ]
    }
   ],
   "source": [
    "# Translate the point\n",
    "print p2\n",
    "p2.translate(-1, -1)\n",
    "print p2"
   ]
  },
  {
   "cell_type": "markdown",
   "metadata": {},
   "source": [
    "## Exceptions\n",
    "In Python, errors are managed by _Exceptions_: an error throws an _Exception_ and the code stops running."
   ]
  },
  {
   "cell_type": "code",
   "execution_count": null,
   "metadata": {
    "collapsed": true
   },
   "outputs": [],
   "source": [
    "def add_one(n):\n",
    "    \"\"\"\n",
    "    Add one to an integer.\n",
    "    \"\"\"\n",
    "    if type(n) != type(1): \n",
    "        # n is not an integer\n",
    "        raise Exception(\"Invalid argument!\")\n",
    "    \n",
    "    return n+1\n",
    "\n",
    "add_one(1.1)"
   ]
  },
  {
   "cell_type": "markdown",
   "metadata": {},
   "source": [
    "Errors can be _caught_ within a `try/except` block: some specific code will run in case of an error."
   ]
  },
  {
   "cell_type": "code",
   "execution_count": null,
   "metadata": {
    "collapsed": true
   },
   "outputs": [],
   "source": [
    "def add_one(n):\n",
    "    \"\"\"\n",
    "    Add one to an integer.\n",
    "    \"\"\"\n",
    "    try:\n",
    "        assert (type(n) == type(1))\n",
    "    except:\n",
    "        print \"Caught an exception!\"    \n",
    "    return n+1\n",
    "\n",
    "add_one(1.1)"
   ]
  },
  {
   "cell_type": "markdown",
   "metadata": {},
   "source": [
    "## Additional resources\n",
    "* Official Python page: http://python.org\n",
    "* Styleguide for Python code: https://www.python.org/dev/peps/pep-0008/\n",
    "* Think Python, by Allen B. Downey: http://greenteapress.com/wp/think-python/"
   ]
  },
  {
   "cell_type": "code",
   "execution_count": null,
   "metadata": {
    "collapsed": true
   },
   "outputs": [],
   "source": []
  }
 ],
 "metadata": {
  "kernelspec": {
   "display_name": "Python 2",
   "language": "python",
   "name": "python2"
  },
  "language_info": {
   "codemirror_mode": {
    "name": "ipython",
    "version": 2
   },
   "file_extension": ".py",
   "mimetype": "text/x-python",
   "name": "python",
   "nbconvert_exporter": "python",
   "pygments_lexer": "ipython2",
   "version": "2.7.13"
  }
 },
 "nbformat": 4,
 "nbformat_minor": 1
}
